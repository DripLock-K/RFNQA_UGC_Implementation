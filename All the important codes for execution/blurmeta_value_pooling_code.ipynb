{
 "cells": [
  {
   "cell_type": "code",
   "execution_count": 1,
   "metadata": {},
   "outputs": [],
   "source": [
    "import json\n",
    "import os\n",
    "import numpy as np\n",
    "import pandas as pd\n",
    "def json_to_csv(json_path, csv_path):\n",
    "    \n",
    "    with open(json_path, 'r') as f:\n",
    "        blur_dict = json.load(f)\n",
    "    \n",
    "    frame_df_rows = []\n",
    "    \n",
    "    for frame in blur_dict['results']:\n",
    "        frame_path = frame['input_path']\n",
    "        blur_score = frame['score']\n",
    "        \n",
    "        video_name = frame_path.split(os.path.sep)[-2]\n",
    "        frame_number = os.path.splitext(os.path.basename(frame_path))[0]\n",
    "        \n",
    "        frame_df_rows.append({\n",
    "            \"video_name\": video_name, \n",
    "            \"frame_number\": frame_number,\n",
    "            \"blur_score\": blur_score\n",
    "        })\n",
    "        \n",
    "    frame_df = pd.DataFrame(frame_df_rows)\n",
    "    \n",
    "   # display(frame_df)\n",
    "    \n",
    "    video_blur_df = frame_df.groupby('video_name').agg(blur_avg=('blur_score', np.mean), \n",
    "                                                       blur_min=('blur_score', np.min),\n",
    "                                                       blur_max=('blur_score', np.max),\n",
    "                                                       blur_std=('blur_score', np.std))\n",
    "    video_blur_df = video_blur_df.reset_index()\n",
    "    video_blur_df = video_blur_df.sort_values(by='video_name')\n",
    "    \n",
    "    video_blur_df.to_csv(csv_path, index=False)"
   ]
  },
  {
   "cell_type": "code",
   "execution_count": 2,
   "metadata": {},
   "outputs": [],
   "source": [
    "json_to_csv(\"C:\\\\Users\\\\Krishna Baghel\\\\Desktop\\\\blur values json\\\\lastfile.json\",\"C:\\\\Users\\\\Krishna Baghel\\\\Desktop\\\\blur values json\\\\lastfi.csv\")"
   ]
  },
  {
   "cell_type": "code",
   "execution_count": null,
   "metadata": {},
   "outputs": [],
   "source": []
  }
 ],
 "metadata": {
  "kernelspec": {
   "display_name": "Python 3",
   "language": "python",
   "name": "python3"
  },
  "language_info": {
   "codemirror_mode": {
    "name": "ipython",
    "version": 3
   },
   "file_extension": ".py",
   "mimetype": "text/x-python",
   "name": "python",
   "nbconvert_exporter": "python",
   "pygments_lexer": "ipython3",
   "version": "3.8.3"
  }
 },
 "nbformat": 4,
 "nbformat_minor": 4
}
