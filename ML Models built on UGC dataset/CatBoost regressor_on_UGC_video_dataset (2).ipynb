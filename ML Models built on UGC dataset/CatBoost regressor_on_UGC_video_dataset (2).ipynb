{
 "cells": [
  {
   "cell_type": "code",
   "execution_count": 3,
   "metadata": {},
   "outputs": [
    {
     "data": {
      "text/html": [
       "<div>\n",
       "<style scoped>\n",
       "    .dataframe tbody tr th:only-of-type {\n",
       "        vertical-align: middle;\n",
       "    }\n",
       "\n",
       "    .dataframe tbody tr th {\n",
       "        vertical-align: top;\n",
       "    }\n",
       "\n",
       "    .dataframe thead th {\n",
       "        text-align: right;\n",
       "    }\n",
       "</style>\n",
       "<table border=\"1\" class=\"dataframe\">\n",
       "  <thead>\n",
       "    <tr style=\"text-align: right;\">\n",
       "      <th></th>\n",
       "      <th>avg_si</th>\n",
       "      <th>avg_ti</th>\n",
       "      <th>max_si</th>\n",
       "      <th>max_ti</th>\n",
       "      <th>min_si</th>\n",
       "      <th>min_ti</th>\n",
       "      <th>num_frames</th>\n",
       "      <th>std_si</th>\n",
       "      <th>std_ti</th>\n",
       "      <th>bitrate</th>\n",
       "      <th>width</th>\n",
       "      <th>height</th>\n",
       "      <th>blur_avg</th>\n",
       "      <th>blur_min</th>\n",
       "      <th>blur_max</th>\n",
       "      <th>blur_std</th>\n",
       "      <th>mscn_mean</th>\n",
       "      <th>mscn_std</th>\n",
       "      <th>MOS</th>\n",
       "    </tr>\n",
       "  </thead>\n",
       "  <tbody>\n",
       "    <tr>\n",
       "      <th>0</th>\n",
       "      <td>67.761</td>\n",
       "      <td>11.486</td>\n",
       "      <td>149.348</td>\n",
       "      <td>43.906</td>\n",
       "      <td>0.000</td>\n",
       "      <td>0.000</td>\n",
       "      <td>599</td>\n",
       "      <td>56.717</td>\n",
       "      <td>14.722</td>\n",
       "      <td>39455067</td>\n",
       "      <td>1920</td>\n",
       "      <td>1080</td>\n",
       "      <td>487.469110</td>\n",
       "      <td>0.000000</td>\n",
       "      <td>1433.735087</td>\n",
       "      <td>535.098036</td>\n",
       "      <td>0.0003</td>\n",
       "      <td>0.0226</td>\n",
       "      <td>3.901</td>\n",
       "    </tr>\n",
       "    <tr>\n",
       "      <th>1</th>\n",
       "      <td>127.930</td>\n",
       "      <td>8.846</td>\n",
       "      <td>161.529</td>\n",
       "      <td>70.356</td>\n",
       "      <td>92.198</td>\n",
       "      <td>0.007</td>\n",
       "      <td>599</td>\n",
       "      <td>14.157</td>\n",
       "      <td>14.491</td>\n",
       "      <td>20173043</td>\n",
       "      <td>1920</td>\n",
       "      <td>1080</td>\n",
       "      <td>1996.931966</td>\n",
       "      <td>554.755396</td>\n",
       "      <td>10293.566930</td>\n",
       "      <td>1387.619823</td>\n",
       "      <td>0.0009</td>\n",
       "      <td>0.0505</td>\n",
       "      <td>3.940</td>\n",
       "    </tr>\n",
       "    <tr>\n",
       "      <th>2</th>\n",
       "      <td>114.687</td>\n",
       "      <td>3.601</td>\n",
       "      <td>139.886</td>\n",
       "      <td>22.136</td>\n",
       "      <td>86.393</td>\n",
       "      <td>0.000</td>\n",
       "      <td>600</td>\n",
       "      <td>13.476</td>\n",
       "      <td>2.806</td>\n",
       "      <td>35246779</td>\n",
       "      <td>1920</td>\n",
       "      <td>1080</td>\n",
       "      <td>754.504431</td>\n",
       "      <td>167.188913</td>\n",
       "      <td>1942.206195</td>\n",
       "      <td>429.063347</td>\n",
       "      <td>0.0006</td>\n",
       "      <td>0.0379</td>\n",
       "      <td>4.158</td>\n",
       "    </tr>\n",
       "    <tr>\n",
       "      <th>3</th>\n",
       "      <td>93.078</td>\n",
       "      <td>7.374</td>\n",
       "      <td>110.246</td>\n",
       "      <td>69.041</td>\n",
       "      <td>75.806</td>\n",
       "      <td>0.000</td>\n",
       "      <td>600</td>\n",
       "      <td>9.397</td>\n",
       "      <td>7.805</td>\n",
       "      <td>4884280</td>\n",
       "      <td>1920</td>\n",
       "      <td>1080</td>\n",
       "      <td>2995.681891</td>\n",
       "      <td>2161.869410</td>\n",
       "      <td>3685.894480</td>\n",
       "      <td>598.026164</td>\n",
       "      <td>0.0007</td>\n",
       "      <td>0.0477</td>\n",
       "      <td>4.189</td>\n",
       "    </tr>\n",
       "    <tr>\n",
       "      <th>4</th>\n",
       "      <td>82.019</td>\n",
       "      <td>21.565</td>\n",
       "      <td>105.680</td>\n",
       "      <td>39.132</td>\n",
       "      <td>52.316</td>\n",
       "      <td>0.003</td>\n",
       "      <td>599</td>\n",
       "      <td>17.192</td>\n",
       "      <td>12.612</td>\n",
       "      <td>45925284</td>\n",
       "      <td>1920</td>\n",
       "      <td>1080</td>\n",
       "      <td>220.564283</td>\n",
       "      <td>67.775987</td>\n",
       "      <td>415.174225</td>\n",
       "      <td>96.592576</td>\n",
       "      <td>0.0000</td>\n",
       "      <td>0.0188</td>\n",
       "      <td>3.791</td>\n",
       "    </tr>\n",
       "  </tbody>\n",
       "</table>\n",
       "</div>"
      ],
      "text/plain": [
       "    avg_si  avg_ti   max_si  max_ti  min_si  min_ti  num_frames  std_si  \\\n",
       "0   67.761  11.486  149.348  43.906   0.000   0.000         599  56.717   \n",
       "1  127.930   8.846  161.529  70.356  92.198   0.007         599  14.157   \n",
       "2  114.687   3.601  139.886  22.136  86.393   0.000         600  13.476   \n",
       "3   93.078   7.374  110.246  69.041  75.806   0.000         600   9.397   \n",
       "4   82.019  21.565  105.680  39.132  52.316   0.003         599  17.192   \n",
       "\n",
       "   std_ti   bitrate  width  height     blur_avg     blur_min      blur_max  \\\n",
       "0  14.722  39455067   1920    1080   487.469110     0.000000   1433.735087   \n",
       "1  14.491  20173043   1920    1080  1996.931966   554.755396  10293.566930   \n",
       "2   2.806  35246779   1920    1080   754.504431   167.188913   1942.206195   \n",
       "3   7.805   4884280   1920    1080  2995.681891  2161.869410   3685.894480   \n",
       "4  12.612  45925284   1920    1080   220.564283    67.775987    415.174225   \n",
       "\n",
       "      blur_std  mscn_mean  mscn_std   MOS   \n",
       "0   535.098036     0.0003    0.0226  3.901  \n",
       "1  1387.619823     0.0009    0.0505  3.940  \n",
       "2   429.063347     0.0006    0.0379  4.158  \n",
       "3   598.026164     0.0007    0.0477  4.189  \n",
       "4    96.592576     0.0000    0.0188  3.791  "
      ]
     },
     "execution_count": 3,
     "metadata": {},
     "output_type": "execute_result"
    }
   ],
   "source": [
    "import numpy as np\n",
    "import pandas as pd\n",
    "import xgboost as xgb\n",
    "from sklearn.metrics import r2_score\n",
    "from sklearn.metrics import mean_squared_error as mse\n",
    "from sklearn.datasets import load_boston\n",
    "from sklearn.model_selection import train_test_split\n",
    "from yellowbrick.regressor import residuals_plot\n",
    "from yellowbrick.regressor import prediction_error\n",
    "\n",
    "\n",
    "#data = pd.read_csv(df = pd.read_csv(\"C:\\\\Users\\\\krishna\\\\OneDrive\\\\Desktop\\\\Krishna_thesis\\\\final work\\\\last final feature matrix.csv\"))\n",
    "data = pd.read_csv(\"C:\\\\Users\\\\krishna\\\\OneDrive\\\\Desktop\\\\Krishna_thesis\\\\final work\\\\last final feature matrix.csv\")\n",
    "#data = data.drop(['input_file'],axis=1)\n",
    "data.head()"
   ]
  },
  {
   "cell_type": "code",
   "execution_count": 4,
   "metadata": {},
   "outputs": [],
   "source": [
    "X = data.iloc[:,:-1].values\n",
    "y = data.iloc[:,-1].values\n",
    "# train and test split\n",
    "# Splitting the dataset into the Training set and Test set\n",
    "from sklearn.model_selection import train_test_split\n",
    "X_train, X_test, y_train, y_test = train_test_split(X, y, test_size = 0.30, random_state=42,shuffle=True)"
   ]
  },
  {
   "cell_type": "code",
   "execution_count": 5,
   "metadata": {},
   "outputs": [],
   "source": [
    "# Instantiate an XGBoost object with hyperparameters\n",
    "xgb_reg = xgb.XGBRegressor(max_depth=3, n_estimators=100, n_jobs=2,\n",
    "                           objectvie='reg:squarederror', booster='gbtree',\n",
    "                           random_state=42, learning_rate=0.05)"
   ]
  },
  {
   "cell_type": "code",
   "execution_count": 6,
   "metadata": {},
   "outputs": [
    {
     "name": "stdout",
     "output_type": "stream",
     "text": [
      "[13:08:08] WARNING: C:/Users/Administrator/workspace/xgboost-win64_release_1.5.0/src/learner.cc:576: \n",
      "Parameters: { \"objectvie\" } might not be used.\n",
      "\n",
      "  This could be a false alarm, with some parameters getting used by language bindings but\n",
      "  then being mistakenly passed down to XGBoost core, or some parameter actually being used\n",
      "  but getting flagged wrongly here. Please open an issue if you find any such cases.\n",
      "\n",
      "\n"
     ]
    },
    {
     "data": {
      "text/plain": [
       "XGBRegressor(base_score=0.5, booster='gbtree', colsample_bylevel=1,\n",
       "             colsample_bynode=1, colsample_bytree=1, enable_categorical=False,\n",
       "             gamma=0, gpu_id=-1, importance_type=None,\n",
       "             interaction_constraints='', learning_rate=0.05, max_delta_step=0,\n",
       "             max_depth=3, min_child_weight=1, missing=nan,\n",
       "             monotone_constraints='()', n_estimators=100, n_jobs=2,\n",
       "             num_parallel_tree=1, objectvie='reg:squarederror',\n",
       "             predictor='auto', random_state=42, reg_alpha=0, reg_lambda=1,\n",
       "             scale_pos_weight=1, subsample=1, tree_method='exact',\n",
       "             validate_parameters=1, verbosity=None)"
      ]
     },
     "execution_count": 6,
     "metadata": {},
     "output_type": "execute_result"
    }
   ],
   "source": [
    "xgb_reg.fit(X_train, y_train)"
   ]
  },
  {
   "cell_type": "code",
   "execution_count": 7,
   "metadata": {},
   "outputs": [],
   "source": [
    "y_pred = xgb_reg.predict(X_test) # Predictions\n",
    "y_true = y_test # True values"
   ]
  },
  {
   "cell_type": "code",
   "execution_count": 8,
   "metadata": {},
   "outputs": [],
   "source": [
    "MSE = mse(y_true, y_pred)\n",
    "RMSE = np.sqrt(MSE)"
   ]
  },
  {
   "cell_type": "code",
   "execution_count": 9,
   "metadata": {},
   "outputs": [],
   "source": [
    "R_squared = r2_score(y_true, y_pred)"
   ]
  },
  {
   "cell_type": "code",
   "execution_count": 10,
   "metadata": {},
   "outputs": [
    {
     "name": "stdout",
     "output_type": "stream",
     "text": [
      "\n",
      "RMSE:  0.51\n",
      "\n",
      "R-Squared:  0.44\n"
     ]
    }
   ],
   "source": [
    "print(\"\\nRMSE: \", np.round(RMSE, 2))\n",
    "print()\n",
    "print(\"R-Squared: \", np.round(R_squared, 2))"
   ]
  },
  {
   "cell_type": "code",
   "execution_count": 11,
   "metadata": {},
   "outputs": [
    {
     "data": {
      "text/plain": [
       "0.2558787531886017"
      ]
     },
     "execution_count": 11,
     "metadata": {},
     "output_type": "execute_result"
    }
   ],
   "source": [
    "from sklearn.metrics import mean_squared_error\n",
    "mean_squared_error(y_true, y_pred)"
   ]
  },
  {
   "cell_type": "code",
   "execution_count": 12,
   "metadata": {},
   "outputs": [
    {
     "name": "stdout",
     "output_type": "stream",
     "text": [
      "Root Mean Square Error:\n",
      "\n",
      "0.5058445939106216\n"
     ]
    }
   ],
   "source": [
    "import math\n",
    "MSE = np.square(np.subtract(y_true, y_pred)).mean() \n",
    " \n",
    "RMSE = math.sqrt(MSE)\n",
    "print(\"Root Mean Square Error:\\n\")\n",
    "print(RMSE)"
   ]
  },
  {
   "cell_type": "code",
   "execution_count": 13,
   "metadata": {},
   "outputs": [
    {
     "data": {
      "text/plain": [
       "0.3903074653397746"
      ]
     },
     "execution_count": 13,
     "metadata": {},
     "output_type": "execute_result"
    }
   ],
   "source": [
    "from sklearn.metrics import mean_absolute_error\n",
    "mean_absolute_error(y_true, y_pred)"
   ]
  },
  {
   "cell_type": "code",
   "execution_count": 14,
   "metadata": {},
   "outputs": [
    {
     "name": "stdout",
     "output_type": "stream",
     "text": [
      "0.43939678733778276\n"
     ]
    }
   ],
   "source": [
    "from sklearn.metrics import r2_score\n",
    "r2 = r2_score(y_true, y_pred)\n",
    "print(r2) #this says this model R2 score is between zero and one like 0.8 which means your model is capable to explain 80 per cent of the variance of data"
   ]
  },
  {
   "cell_type": "code",
   "execution_count": 15,
   "metadata": {},
   "outputs": [
    {
     "name": "stdout",
     "output_type": "stream",
     "text": [
      "Pearsons correlation: 0.668\n"
     ]
    }
   ],
   "source": [
    "import pandas as pd\n",
    "from scipy.stats import pearsonr\n",
    "corr,_= pearsonr(y_true, y_pred)\n",
    "print('Pearsons correlation: %.3f' % corr)"
   ]
  },
  {
   "cell_type": "code",
   "execution_count": 16,
   "metadata": {},
   "outputs": [
    {
     "name": "stdout",
     "output_type": "stream",
     "text": [
      "Rankings of X:\n",
      "0      193.0\n",
      "1       12.0\n",
      "2      216.0\n",
      "3      255.0\n",
      "4       36.0\n",
      "       ...  \n",
      "330    271.0\n",
      "331    242.0\n",
      "332    149.0\n",
      "333    312.5\n",
      "334    168.0\n",
      "Length: 335, dtype: float64\n",
      "Rankings of Y:\n",
      "0      224.0\n",
      "1       14.0\n",
      "2      314.0\n",
      "3      220.0\n",
      "4       89.0\n",
      "       ...  \n",
      "330    318.0\n",
      "331    149.0\n",
      "332    195.0\n",
      "333    116.0\n",
      "334    202.0\n",
      "Length: 335, dtype: float64\n",
      "Spearman's Rank correlation: 0.6658634203592343\n"
     ]
    }
   ],
   "source": [
    "import scipy.stats\n",
    "def spearmans_rank_correlation(x, y):\n",
    "     \n",
    "    # Calculate the rank of x's\n",
    "    xranks = pd.Series(x).rank()\n",
    "    print(\"Rankings of X:\")\n",
    "    print(xranks)\n",
    "     \n",
    "    # Calculate the ranking of the y's\n",
    "    yranks = pd.Series(y).rank()\n",
    "    print(\"Rankings of Y:\")\n",
    "    print(yranks)\n",
    "     \n",
    "    # Calculate Pearson's correlation coefficient on the ranked versions of the data\n",
    "    print(\"Spearman's Rank correlation:\",scipy.stats.pearsonr(xranks, yranks)[0])\n",
    " \n",
    "# Call the function\n",
    "spearmans_rank_correlation(y_true, y_pred)"
   ]
  },
  {
   "cell_type": "code",
   "execution_count": 17,
   "metadata": {},
   "outputs": [
    {
     "name": "stdout",
     "output_type": "stream",
     "text": [
      "Kendall Rank correlation: 0.48459\n"
     ]
    }
   ],
   "source": [
    "from scipy.stats import kendalltau\n",
    "corr, _ = kendalltau(y_true, y_pred)\n",
    "print('Kendall Rank correlation: %.5f' % corr)"
   ]
  },
  {
   "cell_type": "code",
   "execution_count": null,
   "metadata": {},
   "outputs": [],
   "source": []
  }
 ],
 "metadata": {
  "kernelspec": {
   "display_name": "Python 3 (ipykernel)",
   "language": "python",
   "name": "python3"
  },
  "language_info": {
   "codemirror_mode": {
    "name": "ipython",
    "version": 3
   },
   "file_extension": ".py",
   "mimetype": "text/x-python",
   "name": "python",
   "nbconvert_exporter": "python",
   "pygments_lexer": "ipython3",
   "version": "3.11.4"
  }
 },
 "nbformat": 4,
 "nbformat_minor": 4
}
